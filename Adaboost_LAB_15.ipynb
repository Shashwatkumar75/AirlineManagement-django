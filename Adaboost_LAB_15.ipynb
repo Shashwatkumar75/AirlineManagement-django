{
  "nbformat": 4,
  "nbformat_minor": 0,
  "metadata": {
    "colab": {
      "name": "Adaboost_LAB 15",
      "provenance": [],
      "collapsed_sections": [],
      "include_colab_link": true
    },
    "kernelspec": {
      "name": "python3",
      "display_name": "Python 3"
    },
    "language_info": {
      "name": "python"
    }
  },
  "cells": [
    {
      "cell_type": "markdown",
      "metadata": {
        "id": "view-in-github",
        "colab_type": "text"
      },
      "source": [
        "<a href=\"https://colab.research.google.com/github/Shashwatkumar75/AirlineManagement-django/blob/main/Adaboost_LAB_15.ipynb\" target=\"_parent\"><img src=\"https://colab.research.google.com/assets/colab-badge.svg\" alt=\"Open In Colab\"/></a>"
      ]
    },
    {
      "cell_type": "code",
      "metadata": {
        "id": "svd-jhOrqAvV"
      },
      "source": [
        "from numpy import mean\n",
        "from numpy import std\n",
        "import pandas as pd\n",
        "import matplotlib.pyplot as plt\n",
        "from sklearn.ensemble import AdaBoostClassifier\n",
        "from sklearn import datasets\n",
        "from sklearn.model_selection import train_test_split,cross_val_score,KFold\n",
        "from sklearn import metrics\n",
        "import keras\n",
        "from keras.models import Sequential\n",
        "from keras.layers import Dense"
      ],
      "execution_count": null,
      "outputs": []
    },
    {
      "cell_type": "code",
      "metadata": {
        "id": "QFmm8IOKqBbX"
      },
      "source": [
        "df = pd.read_csv('/content/banknotes.txt',names=[\"variance\",\"skewness\",\"curtosis\",\"entropy\",\"class\"])\n",
        "df.head()\n",
        "X = df.loc[:, df.columns != 'class']\n",
        "y = df['class']"
      ],
      "execution_count": null,
      "outputs": []
    },
    {
      "cell_type": "code",
      "metadata": {
        "colab": {
          "base_uri": "https://localhost:8080/"
        },
        "id": "lgEkRlG6qJgu",
        "outputId": "092f254f-b4ef-4b0e-bc4f-312d4909be84"
      },
      "source": [
        "model = Sequential()\n",
        "model.add(Dense(input_dim = 4, units = 5, activation='relu', kernel_initializer='uniform'))\n",
        "model.add(Dense(units = 10, activation='relu', kernel_initializer='uniform'))\n",
        "model.add(Dense(units = 1, activation='sigmoid', kernel_initializer='uniform'))\n",
        "model.compile(optimizer='adam', loss='binary_crossentropy', metrics=['accuracy'])\n",
        "model.fit(X,y,batch_size=50, epochs=40)"
      ],
      "execution_count": null,
      "outputs": [
        {
          "output_type": "stream",
          "name": "stdout",
          "text": [
            "Epoch 1/40\n",
            "28/28 [==============================] - 1s 2ms/step - loss: 0.6920 - accuracy: 0.5466\n",
            "Epoch 2/40\n",
            "28/28 [==============================] - 0s 1ms/step - loss: 0.6830 - accuracy: 0.5751\n",
            "Epoch 3/40\n",
            "28/28 [==============================] - 0s 1ms/step - loss: 0.6481 - accuracy: 0.6800\n",
            "Epoch 4/40\n",
            "28/28 [==============================] - 0s 1ms/step - loss: 0.5685 - accuracy: 0.7726\n",
            "Epoch 5/40\n",
            "28/28 [==============================] - 0s 2ms/step - loss: 0.4539 - accuracy: 0.8637\n",
            "Epoch 6/40\n",
            "28/28 [==============================] - 0s 1ms/step - loss: 0.3410 - accuracy: 0.9235\n",
            "Epoch 7/40\n",
            "28/28 [==============================] - 0s 1ms/step - loss: 0.2557 - accuracy: 0.9483\n",
            "Epoch 8/40\n",
            "28/28 [==============================] - 0s 2ms/step - loss: 0.1974 - accuracy: 0.9628\n",
            "Epoch 9/40\n",
            "28/28 [==============================] - 0s 1ms/step - loss: 0.1564 - accuracy: 0.9767\n",
            "Epoch 10/40\n",
            "28/28 [==============================] - 0s 1ms/step - loss: 0.1269 - accuracy: 0.9810\n",
            "Epoch 11/40\n",
            "28/28 [==============================] - 0s 1ms/step - loss: 0.1059 - accuracy: 0.9840\n",
            "Epoch 12/40\n",
            "28/28 [==============================] - 0s 1ms/step - loss: 0.0898 - accuracy: 0.9862\n",
            "Epoch 13/40\n",
            "28/28 [==============================] - 0s 1ms/step - loss: 0.0774 - accuracy: 0.9876\n",
            "Epoch 14/40\n",
            "28/28 [==============================] - 0s 1ms/step - loss: 0.0677 - accuracy: 0.9898\n",
            "Epoch 15/40\n",
            "28/28 [==============================] - 0s 1ms/step - loss: 0.0605 - accuracy: 0.9905\n",
            "Epoch 16/40\n",
            "28/28 [==============================] - 0s 1ms/step - loss: 0.0541 - accuracy: 0.9898\n",
            "Epoch 17/40\n",
            "28/28 [==============================] - 0s 1ms/step - loss: 0.0490 - accuracy: 0.9905\n",
            "Epoch 18/40\n",
            "28/28 [==============================] - 0s 1ms/step - loss: 0.0448 - accuracy: 0.9913\n",
            "Epoch 19/40\n",
            "28/28 [==============================] - 0s 1ms/step - loss: 0.0412 - accuracy: 0.9913\n",
            "Epoch 20/40\n",
            "28/28 [==============================] - 0s 1ms/step - loss: 0.0382 - accuracy: 0.9913\n",
            "Epoch 21/40\n",
            "28/28 [==============================] - 0s 1ms/step - loss: 0.0356 - accuracy: 0.9920\n",
            "Epoch 22/40\n",
            "28/28 [==============================] - 0s 2ms/step - loss: 0.0339 - accuracy: 0.9927\n",
            "Epoch 23/40\n",
            "28/28 [==============================] - 0s 1ms/step - loss: 0.0315 - accuracy: 0.9913\n",
            "Epoch 24/40\n",
            "28/28 [==============================] - 0s 1ms/step - loss: 0.0296 - accuracy: 0.9920\n",
            "Epoch 25/40\n",
            "28/28 [==============================] - 0s 2ms/step - loss: 0.0280 - accuracy: 0.9920\n",
            "Epoch 26/40\n",
            "28/28 [==============================] - 0s 1ms/step - loss: 0.0266 - accuracy: 0.9934\n",
            "Epoch 27/40\n",
            "28/28 [==============================] - 0s 2ms/step - loss: 0.0254 - accuracy: 0.9920\n",
            "Epoch 28/40\n",
            "28/28 [==============================] - 0s 1ms/step - loss: 0.0241 - accuracy: 0.9956\n",
            "Epoch 29/40\n",
            "28/28 [==============================] - 0s 2ms/step - loss: 0.0230 - accuracy: 0.9956\n",
            "Epoch 30/40\n",
            "28/28 [==============================] - 0s 1ms/step - loss: 0.0221 - accuracy: 0.9949\n",
            "Epoch 31/40\n",
            "28/28 [==============================] - 0s 1ms/step - loss: 0.0216 - accuracy: 0.9949\n",
            "Epoch 32/40\n",
            "28/28 [==============================] - 0s 1ms/step - loss: 0.0203 - accuracy: 0.9956\n",
            "Epoch 33/40\n",
            "28/28 [==============================] - 0s 1ms/step - loss: 0.0198 - accuracy: 0.9964\n",
            "Epoch 34/40\n",
            "28/28 [==============================] - 0s 2ms/step - loss: 0.0189 - accuracy: 0.9964\n",
            "Epoch 35/40\n",
            "28/28 [==============================] - 0s 1ms/step - loss: 0.0183 - accuracy: 0.9956\n",
            "Epoch 36/40\n",
            "28/28 [==============================] - 0s 1ms/step - loss: 0.0175 - accuracy: 0.9964\n",
            "Epoch 37/40\n",
            "28/28 [==============================] - 0s 2ms/step - loss: 0.0170 - accuracy: 0.9956\n",
            "Epoch 38/40\n",
            "28/28 [==============================] - 0s 1ms/step - loss: 0.0162 - accuracy: 0.9956\n",
            "Epoch 39/40\n",
            "28/28 [==============================] - 0s 1ms/step - loss: 0.0156 - accuracy: 0.9993\n",
            "Epoch 40/40\n",
            "28/28 [==============================] - 0s 1ms/step - loss: 0.0154 - accuracy: 0.9964\n"
          ]
        },
        {
          "output_type": "execute_result",
          "data": {
            "text/plain": [
              "<keras.callbacks.History at 0x7fed11f83690>"
            ]
          },
          "metadata": {},
          "execution_count": 3
        }
      ]
    },
    {
      "cell_type": "code",
      "metadata": {
        "id": "1fQXydy_uvxZ"
      },
      "source": [
        "X_train, X_test, y_train, y_test = train_test_split(X, y, test_size=0.3)"
      ],
      "execution_count": null,
      "outputs": []
    },
    {
      "cell_type": "code",
      "metadata": {
        "colab": {
          "base_uri": "https://localhost:8080/"
        },
        "id": "sdZ89dcwqM9X",
        "outputId": "3b2af3b8-ed22-428b-a449-21544e07d7c0"
      },
      "source": [
        "l,acc = model.evaluate(X_test,y_test)"
      ],
      "execution_count": null,
      "outputs": [
        {
          "output_type": "stream",
          "name": "stdout",
          "text": [
            "13/13 [==============================] - 0s 1ms/step - loss: 0.0197 - accuracy: 1.0000\n"
          ]
        }
      ]
    },
    {
      "cell_type": "code",
      "metadata": {
        "id": "jYUC5SgoqTmT"
      },
      "source": [
        "# ADABOOST W/O K-fold\n",
        "def adaboost_wo(n):\n",
        "  abc = AdaBoostClassifier(n_estimators=n,learning_rate=1)\n",
        "  model = abc.fit(X_train, y_train)\n",
        "  y_pred = model.predict(X_test)\n",
        "  y_pred = model.predict(X_test)\n",
        "  print(\"Accuracy for n_estimators = \",n,\" : \",metrics.accuracy_score(y_test, y_pred))"
      ],
      "execution_count": null,
      "outputs": []
    },
    {
      "cell_type": "code",
      "metadata": {
        "id": "2maIByByqYNo"
      },
      "source": [
        "# K-fold\n",
        "def adaboost(n):\n",
        "  abc = AdaBoostClassifier(n_estimators=n,learning_rate=1)\n",
        "  cv = KFold(n_splits=14, random_state=1, shuffle=True)\n",
        "  score = cross_val_score(abc,X,y,cv=cv,scoring='accuracy')\n",
        "  all_scores.append(mean(score))"
      ],
      "execution_count": null,
      "outputs": []
    },
    {
      "cell_type": "code",
      "metadata": {
        "colab": {
          "base_uri": "https://localhost:8080/"
        },
        "id": "-XtQGU4ZqcST",
        "outputId": "35c046e9-2781-45ee-9916-f8495eae7654"
      },
      "source": [
        "adaboost_wo(20)\n",
        "adaboost_wo(40)\n",
        "adaboost_wo(60)\n",
        "adaboost_wo(80)\n",
        "adaboost_wo(100)"
      ],
      "execution_count": null,
      "outputs": [
        {
          "output_type": "stream",
          "name": "stdout",
          "text": [
            "Accuracy for n_estimators =  20  :  0.9805825242718447\n",
            "Accuracy for n_estimators =  40  :  0.9854368932038835\n",
            "Accuracy for n_estimators =  60  :  0.9951456310679612\n",
            "Accuracy for n_estimators =  80  :  0.9951456310679612\n",
            "Accuracy for n_estimators =  100  :  0.9927184466019418\n"
          ]
        }
      ]
    },
    {
      "cell_type": "code",
      "metadata": {
        "id": "BKiWTd71qqwy"
      },
      "source": [
        "all_scores = []\n",
        "adaboost(20)\n",
        "adaboost(40)\n",
        "adaboost(60)\n",
        "adaboost(80)\n",
        "adaboost(100)"
      ],
      "execution_count": null,
      "outputs": []
    },
    {
      "cell_type": "code",
      "metadata": {
        "colab": {
          "base_uri": "https://localhost:8080/",
          "height": 282
        },
        "id": "YjYQiJMiqsF7",
        "outputId": "6b7cc41e-9fd1-41ae-ae04-36b7a63de723"
      },
      "source": [
        "size = [20,40,60,80,100]\n",
        "plt.plot(size,all_scores)\n",
        "plt.plot(size,[acc]*5)"
      ],
      "execution_count": null,
      "outputs": [
        {
          "output_type": "execute_result",
          "data": {
            "text/plain": [
              "[<matplotlib.lines.Line2D at 0x7fed11d88490>]"
            ]
          },
          "metadata": {},
          "execution_count": 10
        },
        {
          "output_type": "display_data",
          "data": {
            "image/png": "[encoded data removed]",
            "text/plain": [
              "<Figure size 432x288 with 1 Axes>"
            ]
          },
          "metadata": {
            "needs_background": "light"
          }
        }
      ]
    }
  ]
}